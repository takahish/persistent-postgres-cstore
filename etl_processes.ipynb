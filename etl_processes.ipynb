{
 "cells": [
  {
   "cell_type": "markdown",
   "metadata": {},
   "source": [
    "# Build Image and ETL Processes\n",
    "\n",
    "This notbook shows sample ETL processes to use persistent-postgres-cstore. [cstore_fdw](https://github.com/citusdata/cstore_fdw) does not support `INSERT INTO ...` though it supports `COPY` and `INSERT INTO ... SELECT`, [see](https://stackoverflow.com/questions/44064004/change-a-normal-table-to-a-foreign-cstore-fdw-table). ETL processs are below,\n",
    "\n",
    "1. [Buid a persistent-postgres image and run it as staging](#1.-Buid-a-persistent-postgres-image-and-run-it-as-staging)\n",
    "2. [Intert data into staging container from csv files](#2.-Intert-data-into-staging-container-from-csv-files)\n",
    "3. [Commit staging container to image and stop staging container](#3.-Commit-staging-container-to-image-and-stop-staging-container)\n",
    "4. [Buid a persistent-postgres-cstore image and run it](#4.-Buid-a-persistent-postgres-cstore-image-and-run-it)\n",
    "5. [Insert data into cstore from staging](#5.-Insert-data-into-cstore-from-staging)\n",
    "6. [Commit cstore container to image](#6.-Commit-cstore-container-to-image)\n",
    "7. [Operation test of selecting data from columnar table](#7.-Operation-test-of-selecting-data-from-the-columnar-store)"
   ]
  },
  {
   "cell_type": "code",
   "execution_count": 1,
   "metadata": {},
   "outputs": [],
   "source": [
    "import os\n",
    "import subprocess\n",
    "import traceback\n",
    "import psycopg2\n",
    "import pandas as pd"
   ]
  },
  {
   "cell_type": "code",
   "execution_count": 2,
   "metadata": {
    "scrolled": true
   },
   "outputs": [
    {
     "data": {
      "text/plain": [
       "0"
      ]
     },
     "execution_count": 2,
     "metadata": {},
     "output_type": "execute_result"
    }
   ],
   "source": [
    "subprocess.call(\"./download_customer_reviews.sh\")"
   ]
  },
  {
   "cell_type": "markdown",
   "metadata": {},
   "source": [
    "## 1. Buid a persistent-postgres image and run it as staging\n",
    "\n",
    "To load csv data into persistent-postgres-cstore, it builds an image of persistnet-postgres (no coloumner store). Because cstore_fdw does not suppoert `INSERT INTO ...`, [see](https://stackoverflow.com/questions/44064004/change-a-normal-table-to-a-foreign-cstore-fdw-table). After building persitent-postgres image, it runs the container as staging."
   ]
  },
  {
   "cell_type": "code",
   "execution_count": 3,
   "metadata": {
    "scrolled": true
   },
   "outputs": [
    {
     "data": {
      "text/plain": [
       "0"
      ]
     },
     "execution_count": 3,
     "metadata": {},
     "output_type": "execute_result"
    }
   ],
   "source": [
    "subprocess.call(\"docker build -t persistent-postgres:0.1 postgres/lib/postgres/11\".split())"
   ]
  },
  {
   "cell_type": "code",
   "execution_count": 4,
   "metadata": {
    "scrolled": true
   },
   "outputs": [
    {
     "data": {
      "text/plain": [
       "0"
      ]
     },
     "execution_count": 4,
     "metadata": {},
     "output_type": "execute_result"
    }
   ],
   "source": [
    "subprocess.call(\"docker run --name persistent-postgres -p 5432:5432 -e POSTGRES_USER=dwhuser -d persistent-postgres:0.1\".split())"
   ]
  },
  {
   "cell_type": "markdown",
   "metadata": {},
   "source": [
    "## 2. Load data into staging container from csv files\n",
    "\n",
    "To load csv data into staging container, 1) it connects the postgres on the staging container, 2) defines some helper functions and queries , and 3) executes the queries for the staging container."
   ]
  },
  {
   "cell_type": "code",
   "execution_count": 5,
   "metadata": {},
   "outputs": [],
   "source": [
    "conn = psycopg2.connect(\"host=127.0.0.1 dbname=dwhuser user=dwhuser password=dwhuser\")\n",
    "cur = conn.cursor()"
   ]
  },
  {
   "cell_type": "code",
   "execution_count": 6,
   "metadata": {},
   "outputs": [],
   "source": [
    "def execute_query(query):\n",
    "    \"\"\"Execute query for a postgres connection.\n",
    "    \n",
    "    Args:\n",
    "        query str: An executed query.\n",
    "    \n",
    "    Return:\n",
    "        boolean: True or False of the result of an execution.\n",
    "    \"\"\"\n",
    "    try:\n",
    "        cur.execute(query)\n",
    "        conn.commit()\n",
    "        return True\n",
    "    except:\n",
    "        traceback.print_exc()\n",
    "        return False"
   ]
  },
  {
   "cell_type": "code",
   "execution_count": 7,
   "metadata": {},
   "outputs": [],
   "source": [
    "def staging_table_insert(insert_query, df):\n",
    "    \"\"\"Insert data into staging table. An inserted table must have same columns of pandas.DataFrame.\n",
    "    If the table dose not have the same columns, an error will be occured.\n",
    "    \n",
    "    Args:\n",
    "        insert_query str: An inserted query.\n",
    "        df pandas.DataFrame: An inserted data.\n",
    "    \n",
    "    Return:\n",
    "        boolean: True or False of the result of an execution.\n",
    "    \"\"\"\n",
    "    try:\n",
    "        for i, row in df.iterrows():\n",
    "            cur.execute(insert_query, list(row))\n",
    "        conn.commit()\n",
    "        return True\n",
    "    except:\n",
    "        traceback.print_exc()\n",
    "        return False"
   ]
  },
  {
   "cell_type": "code",
   "execution_count": 8,
   "metadata": {},
   "outputs": [],
   "source": [
    "# Drop staging table.\n",
    "staging_table_drop_query = \"\"\"\n",
    "DROP TABLE IF EXISTS staging_customer_reviews;\n",
    "\"\"\"\n",
    "\n",
    "# Create staging table.\n",
    "staging_table_create_query = \"\"\"\n",
    "CREATE TABLE staging_customer_reviews (\n",
    "    customer_id TEXT\n",
    "    ,review_date DATE\n",
    "    ,review_rating INTEGER\n",
    "    ,review_votes INTEGER\n",
    "    ,review_helpful_votes INTEGER\n",
    "    ,product_id CHAR(10)\n",
    "    ,product_title TEXT\n",
    "    ,product_sales_rank BIGINT\n",
    "    ,product_group TEXT\n",
    "    ,product_category TEXT\n",
    "    ,product_subcategory TEXT\n",
    "    ,similar_product_ids TEXT\n",
    ");\n",
    "\"\"\"\n",
    "\n",
    "# Insert data into staging table.\n",
    "staging_table_insert_query = \"\"\"\n",
    "INSERT INTO staging_customer_reviews (\n",
    "    customer_id\n",
    "    ,review_date\n",
    "    ,review_rating\n",
    "    ,review_votes\n",
    "    ,review_helpful_votes\n",
    "    ,product_id\n",
    "    ,product_title\n",
    "    ,product_sales_rank\n",
    "    ,product_group\n",
    "    ,product_category\n",
    "    ,product_subcategory\n",
    "    ,similar_product_ids\n",
    ") VALUES (%s, %s, %s, %s, %s, %s, %s, %s, %s, %s, %s, %s);\n",
    "\"\"\""
   ]
  },
  {
   "cell_type": "code",
   "execution_count": 9,
   "metadata": {},
   "outputs": [
    {
     "name": "stdout",
     "output_type": "stream",
     "text": [
      "Drop staging table: True\n",
      "Create staging table: True\n"
     ]
    }
   ],
   "source": [
    "print(\"Drop staging table:\", execute_query(staging_table_drop_query))\n",
    "print(\"Create staging table:\", execute_query(staging_table_create_query))"
   ]
  },
  {
   "cell_type": "code",
   "execution_count": 10,
   "metadata": {},
   "outputs": [
    {
     "name": "stdout",
     "output_type": "stream",
     "text": [
      "Insert into staging table: True\n",
      "Insert into staging table: True\n"
     ]
    }
   ],
   "source": [
    "print(\"Insert into staging table:\", staging_table_insert(staging_table_insert_query, pd.read_csv('customer_reviews_1998.csv.gz', header=None)))\n",
    "print(\"Insert into staging table:\", staging_table_insert(staging_table_insert_query, pd.read_csv('customer_reviews_1999.csv.gz', header=None)))"
   ]
  },
  {
   "cell_type": "markdown",
   "metadata": {},
   "source": [
    "## 3. Commit staging container to image and stop staging container\n",
    "\n",
    "To persit data into the staging container, it commits the container to the persistent-postgres image. Then it stops the staging container."
   ]
  },
  {
   "cell_type": "code",
   "execution_count": 11,
   "metadata": {},
   "outputs": [
    {
     "data": {
      "text/plain": [
       "0"
      ]
     },
     "execution_count": 11,
     "metadata": {},
     "output_type": "execute_result"
    }
   ],
   "source": [
    "subprocess.call(\"docker commit persistent-postgres persistent-postgres:0.1\".split())"
   ]
  },
  {
   "cell_type": "code",
   "execution_count": 12,
   "metadata": {},
   "outputs": [
    {
     "data": {
      "text/plain": [
       "0"
      ]
     },
     "execution_count": 12,
     "metadata": {},
     "output_type": "execute_result"
    }
   ],
   "source": [
    "subprocess.call(\"docker stop persistent-postgres\".split())"
   ]
  },
  {
   "cell_type": "markdown",
   "metadata": {},
   "source": [
    "## 4. Buid a persistent-postgres-cstore image and run it\n",
    "\n",
    "It builds an image of persistent-postgres-cstore (columner store) and runs the container."
   ]
  },
  {
   "cell_type": "code",
   "execution_count": 13,
   "metadata": {},
   "outputs": [
    {
     "data": {
      "text/plain": [
       "0"
      ]
     },
     "execution_count": 13,
     "metadata": {},
     "output_type": "execute_result"
    }
   ],
   "source": [
    "subprocess.call(\"docker build -t persistent-postgres-cstore:0.1 postgres\".split())"
   ]
  },
  {
   "cell_type": "code",
   "execution_count": 14,
   "metadata": {
    "scrolled": true
   },
   "outputs": [
    {
     "data": {
      "text/plain": [
       "0"
      ]
     },
     "execution_count": 14,
     "metadata": {},
     "output_type": "execute_result"
    }
   ],
   "source": [
    "subprocess.call(\"docker run --name persistent-postgres-cstore -p 5432:5432 -e POSTGRES_USER=dwhuser -d persistent-postgres-cstore:0.1\".split())"
   ]
  },
  {
   "cell_type": "markdown",
   "metadata": {},
   "source": [
    "## 5. Insert data into cstore from staging\n",
    "\n",
    "Insert data into cstore from staging table by using `INSERT INTO ... SELECT`, [see](https://stackoverflow.com/questions/44064004/change-a-normal-table-to-a-foreign-cstore-fdw-table). The process are 1) it connects the cstore of postgres on the container, and 2) executes the queries for the staging container by using the helper function."
   ]
  },
  {
   "cell_type": "code",
   "execution_count": 15,
   "metadata": {},
   "outputs": [],
   "source": [
    "conn = psycopg2.connect(\"host=127.0.0.1 dbname=dwhuser user=dwhuser password=dwhuser\")\n",
    "cur = conn.cursor()"
   ]
  },
  {
   "cell_type": "code",
   "execution_count": 16,
   "metadata": {},
   "outputs": [],
   "source": [
    "# Drop table.\n",
    "table_drop_query = \"\"\"\n",
    "DROP FOREIGN TABLE IF EXISTS customer_reviews;\n",
    "\"\"\"\n",
    "\n",
    "# Create extension.\n",
    "extension_create_query = \"\"\"\n",
    "-- load extension first time after install\n",
    "CREATE EXTENSION cstore_fdw;\n",
    "\"\"\"\n",
    "\n",
    "# Create server.\n",
    "foreign_server_create_query = \"\"\"\n",
    "-- create server object\n",
    "CREATE SERVER cstore_server FOREIGN DATA WRAPPER cstore_fdw;\n",
    "\"\"\"\n",
    "\n",
    "# Create table.\n",
    "table_create_query = \"\"\"\n",
    "-- create foreign table\n",
    "CREATE FOREIGN TABLE customer_reviews\n",
    "(\n",
    "    customer_id TEXT,\n",
    "    review_date DATE,\n",
    "    review_rating INTEGER,\n",
    "    review_votes INTEGER,\n",
    "    review_helpful_votes INTEGER,\n",
    "    product_id CHAR(10),\n",
    "    product_title TEXT,\n",
    "    product_sales_rank BIGINT,\n",
    "    product_group TEXT,\n",
    "    product_category TEXT,\n",
    "    product_subcategory TEXT,\n",
    "    similar_product_ids TEXT\n",
    ")\n",
    "SERVER cstore_server\n",
    "OPTIONS(compression 'pglz')\n",
    ";\n",
    "\"\"\"\n",
    "\n",
    "# Insert data into table.\n",
    "table_insert_query = \"\"\"\n",
    "INSERT INTO customer_reviews \n",
    "SELECT\n",
    "    *\n",
    "FROM\n",
    "    staging_customer_reviews\n",
    ";\n",
    "\"\"\""
   ]
  },
  {
   "cell_type": "code",
   "execution_count": 17,
   "metadata": {},
   "outputs": [
    {
     "name": "stdout",
     "output_type": "stream",
     "text": [
      "Drop table: True\n",
      "Create extension: True\n",
      "Create foreign server: True\n",
      "Create table: True\n"
     ]
    }
   ],
   "source": [
    "print(\"Drop table:\", execute_query(table_drop_query))\n",
    "print(\"Create extension:\", execute_query(extension_create_query))\n",
    "print(\"Create foreign server:\", execute_query(foreign_server_create_query))\n",
    "print(\"Create table:\", execute_query(table_create_query))"
   ]
  },
  {
   "cell_type": "code",
   "execution_count": 18,
   "metadata": {},
   "outputs": [
    {
     "name": "stdout",
     "output_type": "stream",
     "text": [
      "Insert into table: True\n"
     ]
    }
   ],
   "source": [
    "print(\"Insert into table:\", execute_query(table_insert_query))"
   ]
  },
  {
   "cell_type": "markdown",
   "metadata": {},
   "source": [
    "## 6. Commit cstore container to image\n",
    "\n",
    "To persit data into the container, it commits the container to the persistent-postgres-cstore image. Then it stops the container."
   ]
  },
  {
   "cell_type": "code",
   "execution_count": 19,
   "metadata": {
    "scrolled": true
   },
   "outputs": [
    {
     "data": {
      "text/plain": [
       "0"
      ]
     },
     "execution_count": 19,
     "metadata": {},
     "output_type": "execute_result"
    }
   ],
   "source": [
    "subprocess.call(\"docker commit persistent-postgres-cstore persistent-postgres-cstore:0.1\".split())"
   ]
  },
  {
   "cell_type": "markdown",
   "metadata": {},
   "source": [
    "## 7. Operation test of selecting data from the columnar store\n",
    "\n",
    "Operation test of selecting from the columnar store, 1) it finds all reviews a particular customer made on the Dune series in 1998, and 2) gets a correlation between a book's titles's length and its review ratings."
   ]
  },
  {
   "cell_type": "code",
   "execution_count": 20,
   "metadata": {},
   "outputs": [],
   "source": [
    "find_query=\"\"\"\n",
    "-- Find all reviews a particular customer made on the Dune series in 1998.\n",
    "SELECT\n",
    "    customer_id\n",
    "    ,review_date\n",
    "    ,review_rating\n",
    "    ,product_id\n",
    "FROM\n",
    "    customer_reviews\n",
    "WHERE\n",
    "    customer_id ='A27T7HVDXA3K2A'\n",
    "    AND product_title LIKE '%Dune%'\n",
    "    AND review_date >= '1998-01-01'\n",
    "    AND review_date <= '1998-12-31'\n",
    ";\n",
    "\"\"\""
   ]
  },
  {
   "cell_type": "code",
   "execution_count": 21,
   "metadata": {
    "scrolled": true
   },
   "outputs": [
    {
     "data": {
      "text/html": [
       "<div>\n",
       "<style scoped>\n",
       "    .dataframe tbody tr th:only-of-type {\n",
       "        vertical-align: middle;\n",
       "    }\n",
       "\n",
       "    .dataframe tbody tr th {\n",
       "        vertical-align: top;\n",
       "    }\n",
       "\n",
       "    .dataframe thead th {\n",
       "        text-align: right;\n",
       "    }\n",
       "</style>\n",
       "<table border=\"1\" class=\"dataframe\">\n",
       "  <thead>\n",
       "    <tr style=\"text-align: right;\">\n",
       "      <th></th>\n",
       "      <th>review_date</th>\n",
       "      <th>review_rating</th>\n",
       "      <th>product_id</th>\n",
       "    </tr>\n",
       "    <tr>\n",
       "      <th>customer_id</th>\n",
       "      <th></th>\n",
       "      <th></th>\n",
       "      <th></th>\n",
       "    </tr>\n",
       "  </thead>\n",
       "  <tbody>\n",
       "    <tr>\n",
       "      <th>A27T7HVDXA3K2A</th>\n",
       "      <td>1998-04-10</td>\n",
       "      <td>5</td>\n",
       "      <td>0399128964</td>\n",
       "    </tr>\n",
       "    <tr>\n",
       "      <th>A27T7HVDXA3K2A</th>\n",
       "      <td>1998-04-10</td>\n",
       "      <td>5</td>\n",
       "      <td>044100590X</td>\n",
       "    </tr>\n",
       "    <tr>\n",
       "      <th>A27T7HVDXA3K2A</th>\n",
       "      <td>1998-04-10</td>\n",
       "      <td>5</td>\n",
       "      <td>0441172717</td>\n",
       "    </tr>\n",
       "    <tr>\n",
       "      <th>A27T7HVDXA3K2A</th>\n",
       "      <td>1998-04-10</td>\n",
       "      <td>5</td>\n",
       "      <td>0881036366</td>\n",
       "    </tr>\n",
       "    <tr>\n",
       "      <th>A27T7HVDXA3K2A</th>\n",
       "      <td>1998-04-10</td>\n",
       "      <td>5</td>\n",
       "      <td>1559949570</td>\n",
       "    </tr>\n",
       "  </tbody>\n",
       "</table>\n",
       "</div>"
      ],
      "text/plain": [
       "               review_date  review_rating  product_id\n",
       "customer_id                                          \n",
       "A27T7HVDXA3K2A  1998-04-10              5  0399128964\n",
       "A27T7HVDXA3K2A  1998-04-10              5  044100590X\n",
       "A27T7HVDXA3K2A  1998-04-10              5  0441172717\n",
       "A27T7HVDXA3K2A  1998-04-10              5  0881036366\n",
       "A27T7HVDXA3K2A  1998-04-10              5  1559949570"
      ]
     },
     "execution_count": 21,
     "metadata": {},
     "output_type": "execute_result"
    }
   ],
   "source": [
    "pd.read_sql(sql=find_query, con=conn, index_col='customer_id')"
   ]
  },
  {
   "cell_type": "code",
   "execution_count": 22,
   "metadata": {},
   "outputs": [],
   "source": [
    "correlation_query=\"\"\"\n",
    "-- Do we have a correlation between a book's title's length and its review ratings?\n",
    "SELECT\n",
    "    width_bucket(length(product_title), 1, 50, 5) title_length_bucket\n",
    "    ,round(avg(review_rating), 2) AS review_average\n",
    "    ,count(*)\n",
    "FROM\n",
    "   customer_reviews\n",
    "WHERE\n",
    "    product_group = 'Book'\n",
    "GROUP BY\n",
    "    title_length_bucket\n",
    "ORDER BY\n",
    "    title_length_bucket\n",
    ";\n",
    "\"\"\""
   ]
  },
  {
   "cell_type": "code",
   "execution_count": 23,
   "metadata": {},
   "outputs": [
    {
     "data": {
      "text/html": [
       "<div>\n",
       "<style scoped>\n",
       "    .dataframe tbody tr th:only-of-type {\n",
       "        vertical-align: middle;\n",
       "    }\n",
       "\n",
       "    .dataframe tbody tr th {\n",
       "        vertical-align: top;\n",
       "    }\n",
       "\n",
       "    .dataframe thead th {\n",
       "        text-align: right;\n",
       "    }\n",
       "</style>\n",
       "<table border=\"1\" class=\"dataframe\">\n",
       "  <thead>\n",
       "    <tr style=\"text-align: right;\">\n",
       "      <th></th>\n",
       "      <th>review_average</th>\n",
       "      <th>count</th>\n",
       "    </tr>\n",
       "    <tr>\n",
       "      <th>title_length_bucket</th>\n",
       "      <th></th>\n",
       "      <th></th>\n",
       "    </tr>\n",
       "  </thead>\n",
       "  <tbody>\n",
       "    <tr>\n",
       "      <th>1</th>\n",
       "      <td>4.26</td>\n",
       "      <td>139034</td>\n",
       "    </tr>\n",
       "    <tr>\n",
       "      <th>2</th>\n",
       "      <td>4.24</td>\n",
       "      <td>411318</td>\n",
       "    </tr>\n",
       "    <tr>\n",
       "      <th>3</th>\n",
       "      <td>4.34</td>\n",
       "      <td>245671</td>\n",
       "    </tr>\n",
       "    <tr>\n",
       "      <th>4</th>\n",
       "      <td>4.32</td>\n",
       "      <td>167361</td>\n",
       "    </tr>\n",
       "    <tr>\n",
       "      <th>5</th>\n",
       "      <td>4.30</td>\n",
       "      <td>118422</td>\n",
       "    </tr>\n",
       "    <tr>\n",
       "      <th>6</th>\n",
       "      <td>4.40</td>\n",
       "      <td>116412</td>\n",
       "    </tr>\n",
       "  </tbody>\n",
       "</table>\n",
       "</div>"
      ],
      "text/plain": [
       "                     review_average   count\n",
       "title_length_bucket                        \n",
       "1                              4.26  139034\n",
       "2                              4.24  411318\n",
       "3                              4.34  245671\n",
       "4                              4.32  167361\n",
       "5                              4.30  118422\n",
       "6                              4.40  116412"
      ]
     },
     "execution_count": 23,
     "metadata": {},
     "output_type": "execute_result"
    }
   ],
   "source": [
    "pd.read_sql(sql=correlation_query, con=conn, index_col='title_length_bucket')"
   ]
  }
 ],
 "metadata": {
  "kernelspec": {
   "display_name": "Python 3",
   "language": "python",
   "name": "python3"
  },
  "language_info": {
   "codemirror_mode": {
    "name": "ipython",
    "version": 3
   },
   "file_extension": ".py",
   "mimetype": "text/x-python",
   "name": "python",
   "nbconvert_exporter": "python",
   "pygments_lexer": "ipython3",
   "version": "3.7.3"
  }
 },
 "nbformat": 4,
 "nbformat_minor": 2
}
